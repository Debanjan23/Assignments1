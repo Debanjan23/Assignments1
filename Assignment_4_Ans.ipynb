{
 "cells": [
  {
   "cell_type": "code",
   "execution_count": 2,
   "id": "4ea3a32c",
   "metadata": {},
   "outputs": [],
   "source": [
    "spam=[2,4,6,8,10]"
   ]
  },
  {
   "cell_type": "code",
   "execution_count": 3,
   "id": "21d20e0c",
   "metadata": {},
   "outputs": [],
   "source": [
    "spam[2]='hello'"
   ]
  },
  {
   "cell_type": "code",
   "execution_count": 4,
   "id": "12177323",
   "metadata": {},
   "outputs": [
    {
     "data": {
      "text/plain": [
       "[2, 4, 'hello', 8, 10]"
      ]
     },
     "execution_count": 4,
     "metadata": {},
     "output_type": "execute_result"
    }
   ],
   "source": [
    "spam"
   ]
  },
  {
   "cell_type": "code",
   "execution_count": 5,
   "id": "e4136a43",
   "metadata": {},
   "outputs": [],
   "source": [
    "spam=['a','b','c','d']"
   ]
  },
  {
   "cell_type": "code",
   "execution_count": 6,
   "id": "236e23a0",
   "metadata": {},
   "outputs": [
    {
     "data": {
      "text/plain": [
       "'d'"
      ]
     },
     "execution_count": 6,
     "metadata": {},
     "output_type": "execute_result"
    }
   ],
   "source": [
    "spam[int(int('3'*2)/11)]"
   ]
  },
  {
   "cell_type": "code",
   "execution_count": 7,
   "id": "b1ea7fff",
   "metadata": {},
   "outputs": [
    {
     "data": {
      "text/plain": [
       "'d'"
      ]
     },
     "execution_count": 7,
     "metadata": {},
     "output_type": "execute_result"
    }
   ],
   "source": [
    "spam[-1]"
   ]
  },
  {
   "cell_type": "code",
   "execution_count": 8,
   "id": "0bf35e34",
   "metadata": {},
   "outputs": [
    {
     "data": {
      "text/plain": [
       "['a', 'b']"
      ]
     },
     "execution_count": 8,
     "metadata": {},
     "output_type": "execute_result"
    }
   ],
   "source": [
    "spam[:2]"
   ]
  },
  {
   "cell_type": "code",
   "execution_count": 9,
   "id": "d8d4d732",
   "metadata": {},
   "outputs": [],
   "source": [
    "bacon=[3.14,'cat',11,'cat',True]"
   ]
  },
  {
   "cell_type": "code",
   "execution_count": 10,
   "id": "83a8fa1b",
   "metadata": {},
   "outputs": [
    {
     "data": {
      "text/plain": [
       "1"
      ]
     },
     "execution_count": 10,
     "metadata": {},
     "output_type": "execute_result"
    }
   ],
   "source": [
    "bacon.index('cat')"
   ]
  },
  {
   "cell_type": "code",
   "execution_count": 11,
   "id": "bd0aa5e4",
   "metadata": {},
   "outputs": [
    {
     "ename": "TypeError",
     "evalue": "list.append() takes exactly one argument (0 given)",
     "output_type": "error",
     "traceback": [
      "\u001b[1;31m---------------------------------------------------------------------------\u001b[0m",
      "\u001b[1;31mTypeError\u001b[0m                                 Traceback (most recent call last)",
      "Input \u001b[1;32mIn [11]\u001b[0m, in \u001b[0;36m<cell line: 1>\u001b[1;34m()\u001b[0m\n\u001b[1;32m----> 1\u001b[0m \u001b[43mbacon\u001b[49m\u001b[38;5;241;43m.\u001b[39;49m\u001b[43mappend\u001b[49m\u001b[43m(\u001b[49m\u001b[43m)\u001b[49m\n",
      "\u001b[1;31mTypeError\u001b[0m: list.append() takes exactly one argument (0 given)"
     ]
    }
   ],
   "source": [
    "bacon.append()"
   ]
  },
  {
   "cell_type": "code",
   "execution_count": 12,
   "id": "24a09340",
   "metadata": {},
   "outputs": [],
   "source": [
    "bacon.append(99)"
   ]
  },
  {
   "cell_type": "code",
   "execution_count": 13,
   "id": "8e016810",
   "metadata": {},
   "outputs": [
    {
     "data": {
      "text/plain": [
       "[3.14, 'cat', 11, 'cat', True, 99]"
      ]
     },
     "execution_count": 13,
     "metadata": {},
     "output_type": "execute_result"
    }
   ],
   "source": [
    "bacon"
   ]
  },
  {
   "cell_type": "code",
   "execution_count": 14,
   "id": "ac5482a6",
   "metadata": {},
   "outputs": [],
   "source": [
    "bacon.remove('cat')"
   ]
  },
  {
   "cell_type": "code",
   "execution_count": 15,
   "id": "09757780",
   "metadata": {},
   "outputs": [
    {
     "data": {
      "text/plain": [
       "[3.14, 11, 'cat', True, 99]"
      ]
     },
     "execution_count": 15,
     "metadata": {},
     "output_type": "execute_result"
    }
   ],
   "source": [
    "bacon"
   ]
  },
  {
   "cell_type": "markdown",
   "id": "af2f2bc4",
   "metadata": {},
   "source": [
    "The operator for list concatenation is +, while the operator for replication is *"
   ]
  },
  {
   "cell_type": "markdown",
   "id": "48d1a008",
   "metadata": {},
   "source": [
    "The operator for list concatenation is +, while the operator for replication is *"
   ]
  },
  {
   "cell_type": "markdown",
   "id": "a8707cb3",
   "metadata": {},
   "source": [
    "append() function can add single element to the end of the list howeber extend() function can add multiple emelmemts to the end of the list"
   ]
  },
  {
   "cell_type": "markdown",
   "id": "b8172196",
   "metadata": {},
   "source": [
    "remove() and pop() function is there under list"
   ]
  },
  {
   "cell_type": "markdown",
   "id": "64b0af27",
   "metadata": {},
   "source": [
    "string is a collection of ordered nunber of characters, even one single character in string is a string, however list values are of different data types"
   ]
  },
  {
   "cell_type": "markdown",
   "id": "a48d63cc",
   "metadata": {},
   "source": [
    "the main difference between tuple and list is list is mutable and tuple is immutable data types."
   ]
  },
  {
   "cell_type": "code",
   "execution_count": 22,
   "id": "de48589a",
   "metadata": {},
   "outputs": [],
   "source": [
    "t=(45)"
   ]
  },
  {
   "cell_type": "code",
   "execution_count": 23,
   "id": "287cef4e",
   "metadata": {},
   "outputs": [],
   "source": [
    "l=[(1,2,3,54,645747),('k',88,89,7999)]"
   ]
  },
  {
   "cell_type": "code",
   "execution_count": 25,
   "id": "54ac0425",
   "metadata": {},
   "outputs": [],
   "source": [
    "l1=(['er','rrwr','mfdfkdf',7,89,678])"
   ]
  },
  {
   "cell_type": "code",
   "execution_count": 26,
   "id": "8ffdd742",
   "metadata": {},
   "outputs": [
    {
     "data": {
      "text/plain": [
       "[(1, 2, 3, 54, 645747), ('k', 88, 89, 7999)]"
      ]
     },
     "execution_count": 26,
     "metadata": {},
     "output_type": "execute_result"
    }
   ],
   "source": [
    "l"
   ]
  },
  {
   "cell_type": "code",
   "execution_count": 27,
   "id": "113c87d9",
   "metadata": {},
   "outputs": [
    {
     "data": {
      "text/plain": [
       "['er', 'rrwr', 'mfdfkdf', 7, 89, 678]"
      ]
     },
     "execution_count": 27,
     "metadata": {},
     "output_type": "execute_result"
    }
   ],
   "source": [
    "l1"
   ]
  },
  {
   "cell_type": "markdown",
   "id": "0e27f5c5",
   "metadata": {},
   "source": [
    "They can contain any type of data type under a list data structre or collection."
   ]
  },
  {
   "cell_type": "markdown",
   "id": "25080c42",
   "metadata": {},
   "source": [
    "copy.copy() creates reference to original object and if you will change the copied object value then the original value of the object will get changed. however copy.deepcopy() used to create a new object and only copy the value of the original object to it. Hence if you will change the value of new object, original object will not get changed."
   ]
  },
  {
   "cell_type": "code",
   "execution_count": null,
   "id": "42155dbb",
   "metadata": {},
   "outputs": [],
   "source": []
  }
 ],
 "metadata": {
  "kernelspec": {
   "display_name": "Python 3 (ipykernel)",
   "language": "python",
   "name": "python3"
  },
  "language_info": {
   "codemirror_mode": {
    "name": "ipython",
    "version": 3
   },
   "file_extension": ".py",
   "mimetype": "text/x-python",
   "name": "python",
   "nbconvert_exporter": "python",
   "pygments_lexer": "ipython3",
   "version": "3.9.12"
  }
 },
 "nbformat": 4,
 "nbformat_minor": 5
}
